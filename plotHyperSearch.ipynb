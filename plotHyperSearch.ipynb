{
 "cells": [
  {
   "cell_type": "code",
   "execution_count": 7,
   "metadata": {},
   "outputs": [
    {
     "name": "stderr",
     "output_type": "stream",
     "text": [
      "100%|██████████| 22/22 [00:00<00:00, 72.08it/s]\n",
      "100%|██████████| 22/22 [00:00<00:00, 76.13it/s]\n"
     ]
    },
    {
     "name": "stdout",
     "output_type": "stream",
     "text": [
      "grid_y range: -4.318818157119732 to 0.41134960606219195\n",
      "First column of grid_y (unique values): [-4.31881816]\n",
      "ylim: (-3.5, -1.1)\n",
      "Selected indices: [  0   0   0 ... 199 199 199]\n",
      "z min: -4.31635177436898, z max: 0.11008721914835977\n"
     ]
    },
    {
     "data": {
      "image/png": "[encoded data removed]",
      "text/plain": [
       "<Figure size 432x288 with 2 Axes>"
      ]
     },
     "metadata": {
      "needs_background": "light"
     },
     "output_type": "display_data"
    }
   ],
   "source": [
    "import pickle\n",
    "from tqdm import tqdm\n",
    "import matplotlib.pyplot as plt\n",
    "import matplotlib.pyplot as plt\n",
    "import numpy as np\n",
    "import pandas as pd\n",
    "from scipy.interpolate import griddata\n",
    "from matplotlib import font_manager\n",
    "from matplotlib import rcParams\n",
    "\n",
    "rcParams[\"legend.fontsize\"] = 14\n",
    "rcParams[\"font.family\"] = \"Times New Roman\"\n",
    "rcParams[\"legend.title_fontsize\"] = 14\n",
    "rcParams['xtick.labelsize'] = 14\n",
    "rcParams['ytick.labelsize'] = 14\n",
    "rcParams['axes.labelsize'] = 14\n",
    "data = []\n",
    "for m in tqdm([10, 20, 40, 50, 60, 70, 80, 90,  100, 200, 400, 800, 1000, 2000, 2500, 3000, 4000, 6000, 8000, 10000, 20000, 40000]): \n",
    "    filename = f\"data_pkl_4beta_contour/sigma01_n{m}.pkl\"\n",
    "    with open(filename, 'rb') as file: \n",
    "        loaded_data = pickle.load(file) \n",
    "    res = loaded_data.trials\n",
    "    sorted_trials = sorted(res, key=lambda x: x[\"misc\"][\"vals\"]['beta'][0])\n",
    "    beta_values = [item[\"misc\"][\"vals\"]['beta'][0] for item in sorted_trials]\n",
    "    loss_values = [(pd.DataFrame(item[\"result\"]['results'])[\"es_mlre\"]**2).mean() for item in sorted_trials]\n",
    "    data.append({\"n\": m, \"loss_min\": min(loss_values), \"beta_best\": beta_values[loss_values.index(min(loss_values))]})\n",
    "\n",
    "data_df = pd.DataFrame(data)\n",
    "\n",
    "y_flag = (data_df[\"n\"].apply(np.log10) * (-0.5) - 0.7).apply(lambda x: 10**x)\n",
    "x_flag = data_df[\"n\"]\n",
    "#-------------------------------------------\n",
    "data = []\n",
    "for m in tqdm([10, 20, 40, 50, 60, 70, 80, 90, 100, 200, 400, 800, 1000, 2000, 2500, 3000, 4000, 6000, 8000, 10000, 20000, 40000]): \n",
    "    filename = f\"data_pkl_4beta_contour/sigma01_n{m}.pkl\"\n",
    "    with open(filename, 'rb') as file: \n",
    "        loaded_data = pickle.load(file) \n",
    "    res = loaded_data.trials\n",
    "    sorted_trials = sorted(res, key=lambda x: x[\"misc\"][\"vals\"]['beta'][0])\n",
    "    beta_values = [item[\"misc\"][\"vals\"]['beta'][0] for item in sorted_trials]\n",
    "    loss_values = [(pd.DataFrame(item[\"result\"]['results'])[\"es_mlre\"]**2).mean() for item in sorted_trials]\n",
    "    for beta, loss in zip(beta_values, loss_values):\n",
    "        data.append({\"n\": m, \"loss\": np.log10(loss), \"beta\": beta})\n",
    "data_df = pd.DataFrame(data)\n",
    "\n",
    "data_df['n'] = data_df['n'].apply(np.log10)\n",
    "data_df['beta'] = data_df['beta'].apply(np.log10)\n",
    "\n",
    "grid_x, grid_y = np.mgrid[data_df['n'].min():data_df['n'].max():200j, data_df['beta'].min():data_df['beta'].max():100j]\n",
    "grid_z = griddata((data_df['n'], data_df['beta']), data_df['loss'], (grid_x, grid_y), method='cubic')\n",
    "grid_z.shape\n",
    "\n",
    "fig1, ax1 = plt.subplots(figsize=(6, 4))\n",
    "ax1.plot(x_flag.apply(np.log10), np.log10(y_flag), c='r', linestyle=\"-\", label=r\"$\\log(\\beta)= -$\" + f\"{0.5}\" + r\"$\\times \\log(n)-$\" + f\"{0.7}\" )  \n",
    "\n",
    "ylim = (-3.5, -1.1)\n",
    "print(f\"grid_y range: {grid_y.min()} to {grid_y.max()}\")\n",
    "if ylim[0] < grid_y.min() or ylim[1] > grid_y.max():\n",
    "    print(f\"Warning: ylim {ylim} is outside the range of grid_y. Adjusting to match grid_y.\")\n",
    "    ylim = (max(ylim[0], grid_y.min()), min(ylim[1], grid_y.max()))\n",
    "ax1.set_ylim(*ylim)\n",
    "print(\"First column of grid_y (unique values):\", np.unique(grid_y[:, 0]))\n",
    "print(f\"ylim: {ylim}\")\n",
    "y_indices = np.where((grid_y >= ylim[0]) & (grid_y <= ylim[1]))[0]\n",
    "print(\"Selected indices:\", y_indices)\n",
    "\n",
    "if len(y_indices) == 0:\n",
    "    raise ValueError(f\"No data found within the specified ylim {ylim}. Adjust the range.\")\n",
    "\n",
    "cropped_z = grid_z[y_indices, :]  \n",
    "cropped_y = grid_y[y_indices, :]  \n",
    "cropped_x = grid_x[y_indices, :]  \n",
    "cropped_z = np.ma.masked_invalid(cropped_z)\n",
    "cropped_x = np.ma.masked_invalid(cropped_x)\n",
    "cropped_y = np.ma.masked_invalid(cropped_y)\n",
    "print(f\"z min: {cropped_z.min()}, z max: {cropped_z.max()}\")\n",
    "import matplotlib.colors as mcolors\n",
    "norm = mcolors.Normalize(vmin=cropped_z.min(), vmax=cropped_z.max())\n",
    "contour = ax1.contourf(cropped_x, cropped_y, cropped_z, norm=norm, cmap='viridis')\n",
    "colorbar = plt.colorbar(contour)\n",
    "\n",
    "font = font_manager.FontProperties(family='Times New Roman', size=14)\n",
    "ax1.legend()\n",
    "legend = ax1.legend(frameon=False, title=None, loc='upper right')\n",
    "plt.show()\n",
    "fig1.savefig(\"data_pkl_4beta_contour/contour_0d5.pdf\", dpi=7200, bbox_inches='tight')\n",
    "plt.show()"
   ]
  }
 ],
 "metadata": {
  "kernelspec": {
   "display_name": "redunet_official",
   "language": "python",
   "name": "python3"
  },
  "language_info": {
   "codemirror_mode": {
    "name": "ipython",
    "version": 3
   },
   "file_extension": ".py",
   "mimetype": "text/x-python",
   "name": "python",
   "nbconvert_exporter": "python",
   "pygments_lexer": "ipython3",
   "version": "3.8.19"
  }
 },
 "nbformat": 4,
 "nbformat_minor": 2
}
